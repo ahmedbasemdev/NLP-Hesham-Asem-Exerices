{
 "cells": [
  {
   "cell_type": "code",
   "execution_count": 1,
   "metadata": {},
   "outputs": [
    {
     "data": {
      "text/plain": [
       "[\"I'd\", 'love', 'python', 'so', 'much']"
      ]
     },
     "execution_count": 1,
     "metadata": {},
     "output_type": "execute_result"
    }
   ],
   "source": [
    "text = \"I'd love python so much\"\n",
    "text.split()"
   ]
  },
  {
   "cell_type": "code",
   "execution_count": 2,
   "metadata": {},
   "outputs": [
    {
     "data": {
      "text/plain": [
       "[\"I'd\", 'love', 'to', 'travel', 'to', 'los', 'Anglos']"
      ]
     },
     "execution_count": 2,
     "metadata": {},
     "output_type": "execute_result"
    }
   ],
   "source": [
    "text = \"I'd love to travel to los Anglos\"\n",
    "text.split()"
   ]
  },
  {
   "cell_type": "markdown",
   "metadata": {},
   "source": [
    "there are two problems here space between one word and linked words "
   ]
  },
  {
   "cell_type": "code",
   "execution_count": null,
   "metadata": {},
   "outputs": [],
   "source": []
  },
  {
   "cell_type": "code",
   "execution_count": null,
   "metadata": {},
   "outputs": [],
   "source": []
  },
  {
   "cell_type": "markdown",
   "metadata": {},
   "source": [
    "max-match : it checks the most number of matched words that can be handled"
   ]
  },
  {
   "cell_type": "code",
   "execution_count": 3,
   "metadata": {},
   "outputs": [],
   "source": [
    "import spacy"
   ]
  },
  {
   "cell_type": "code",
   "execution_count": 5,
   "metadata": {},
   "outputs": [],
   "source": [
    "nlp = spacy.load('en_core_web_sm')"
   ]
  },
  {
   "cell_type": "code",
   "execution_count": 11,
   "metadata": {},
   "outputs": [
    {
     "name": "stdout",
     "output_type": "stream",
     "text": [
      "tesla\n",
      "xxxx\n",
      "True\n",
      "False\n",
      "------------------------------\n",
      "is\n",
      "xx\n",
      "True\n",
      "True\n",
      "------------------------------\n",
      "looking\n",
      "xxxx\n",
      "True\n",
      "False\n",
      "------------------------------\n",
      "at\n",
      "xx\n",
      "True\n",
      "True\n",
      "------------------------------\n",
      "buying\n",
      "xxxx\n",
      "True\n",
      "False\n",
      "------------------------------\n",
      "U.S.\n",
      "X.X.\n",
      "False\n",
      "False\n",
      "------------------------------\n",
      "startup\n",
      "xxxx\n",
      "True\n",
      "False\n",
      "------------------------------\n",
      "for\n",
      "xxx\n",
      "True\n",
      "True\n",
      "------------------------------\n",
      "$\n",
      "$\n",
      "False\n",
      "False\n",
      "------------------------------\n",
      "6\n",
      "d\n",
      "False\n",
      "False\n",
      "------------------------------\n",
      "milion\n",
      "xxxx\n",
      "True\n",
      "False\n",
      "------------------------------\n"
     ]
    }
   ],
   "source": [
    "doc = nlp(\"tesla is looking at buying U.S. startup for $6 milion\")\n",
    "\n",
    "for token in doc:\n",
    "    print(token.text)\n",
    "    # _ means the explaintion of the shape\n",
    "    print(token.shape_)\n",
    "    print(token.is_alpha)\n",
    "    print(token.is_stop)\n",
    "    print('-'*30)"
   ]
  },
  {
   "cell_type": "code",
   "execution_count": null,
   "metadata": {},
   "outputs": [],
   "source": []
  }
 ],
 "metadata": {
  "kernelspec": {
   "display_name": "Python 3",
   "language": "python",
   "name": "python3"
  },
  "language_info": {
   "codemirror_mode": {
    "name": "ipython",
    "version": 3
   },
   "file_extension": ".py",
   "mimetype": "text/x-python",
   "name": "python",
   "nbconvert_exporter": "python",
   "pygments_lexer": "ipython3",
   "version": "3.7.6"
  }
 },
 "nbformat": 4,
 "nbformat_minor": 4
}
